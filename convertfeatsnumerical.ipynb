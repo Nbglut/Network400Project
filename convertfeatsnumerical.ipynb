{
 "cells": [
  {
   "cell_type": "code",
   "execution_count": 127,
   "metadata": {},
   "outputs": [],
   "source": [
    "import pandas as pd\n",
    "\n"
   ]
  },
  {
   "cell_type": "code",
   "execution_count": 128,
   "metadata": {},
   "outputs": [],
   "source": [
    "#substring a string reference - https://www.geeksforgeeks.org/how-to-substring-a-string-in-python/\n",
    "#python functions reference - https://www.w3schools.com/python/python_functions.asp\n",
    "def contains (str1, str2):\n",
    "    for i in range(len(str1)-len(str2)+1):\n",
    "        if(str1[i:i+len(str2)]==str2):\n",
    "                return True\n",
    "    return False"
   ]
  },
  {
   "cell_type": "code",
   "execution_count": 129,
   "metadata": {},
   "outputs": [],
   "source": [
    "dFrame = pd.read_csv(\"C:/Users/Joey/Downloads/C400NetworkCode/combined_data_smaller.csv\")"
   ]
  },
  {
   "cell_type": "code",
   "execution_count": null,
   "metadata": {},
   "outputs": [],
   "source": [
    "#dataframe replace method: https://pandas.pydata.org/docs/reference/api/pandas.DataFrame.replace.html#pandas.DataFrame.replace\n",
    "protos=dFrame[\"Protocol\"]\n",
    "protos.replace(to_replace={\"TCP\": 1, \"TLSv1.3\":2, \"UDP\":3,\"QUIC\":4,\"TLSv1.2\":5,\"SSLv2\":6},inplace=True)\n",
    "dFrame[\"Protocol\"]=protos\n",
    "\n",
    "dFrame=dFrame.drop(\"Source\",axis=1)\n",
    "dFrame=dFrame.drop(\"Destination\",axis=1)\n",
    "#string to int references: https://pythonprinciples.com/blog/python-convert-string-to-int/#:~:text=To%20convert%20a%20string%20to%20an%20integer%2C%20use%20the%20built,an%20integer%20as%20its%20output. , https://www.geeksforgeeks.org/convert-string-to-integer-in-python/\n"
   ]
  },
  {
   "cell_type": "code",
   "execution_count": 131,
   "metadata": {},
   "outputs": [
    {
     "name": "stdout",
     "output_type": "stream",
     "text": [
      "2.2.2\n"
     ]
    }
   ],
   "source": [
    "print(pd.__version__)"
   ]
  },
  {
   "cell_type": "code",
   "execution_count": null,
   "metadata": {},
   "outputs": [],
   "source": [
    "#substring a string reference - https://www.geeksforgeeks.org/how-to-substring-a-string-in-python/\n",
    "'''def contains (str1, str2):\n",
    "    for i in range(len(str1)-len(str2)+1):\n",
    "        if(str1[i:i+len(str2)-1]==str2):\n",
    "                return True\n",
    "    return False'''\n",
    "        \n",
    "\n"
   ]
  },
  {
   "cell_type": "code",
   "execution_count": null,
   "metadata": {},
   "outputs": [],
   "source": [
    "print(contains(\"onetwothreefour\", \"three\"))\n",
    "'''str1 = \"onetwothreefour\"\n",
    "str2 = \"three\"\n",
    "for i in range(len(str1)-len(str2)+1):\n",
    "    print(str1[i:i+len(str2)])\n",
    "    if(str1[i:i+len(str2)-1]==str2):\n",
    "        print(\"true\")'''\n"
   ]
  },
  {
   "cell_type": "code",
   "execution_count": null,
   "metadata": {},
   "outputs": [],
   "source": [
    "infoCol = dFrame[\"Info\"]\n",
    "syn=[]\n",
    "synack=[]\n",
    "ack=[]\n",
    "appdata=[]\n",
    "contdata=[]\n",
    "tcpdupack=[]\n",
    "tcpfastretransmit=[]\n",
    "pshack = []\n",
    "tcpoutoforder = []\n",
    "protectedpayload = []\n",
    "tcpkeepalive = []\n",
    "handshake = []\n",
    "other = []\n",
    "conversionDict={}\n",
    "for index in infoCol:\n",
    "    if contains(index,\"[SYN]\"):\n",
    "        conversionDict[index]=1\n",
    "    elif contains(index,\"[SYN, ACK]\"):\n",
    "        conversionDict[index]=2\n",
    "    elif contains(index,\"[ACK]\"):\n",
    "        conversionDict[index]=3\n",
    "    elif contains(index,\"Application Data\"):\n",
    "        conversionDict[index]=4\n",
    "    elif contains(index,\"Continuation Data\"):\n",
    "        conversionDict[index]=5\n",
    "    elif contains(index,\"[TCP Dup ACK\"):\n",
    "        conversionDict[index]=6\n",
    "    elif contains(index,\"[TCP Fast Retransmission\"):\n",
    "        conversionDict[index]=7\n",
    "    elif contains(index,\"[PSH, ACK]\"):\n",
    "        conversionDict[index]=8\n",
    "    elif contains(index,\"[TCP Out-Of-Order\"):\n",
    "        conversionDict[index]=9\n",
    "    elif contains(index,\"Protected Payload\"):\n",
    "        conversionDict[index]=10\n",
    "    elif contains(index,\"[TCP Keep-Alive\"):\n",
    "        conversionDict[index]=11\n",
    "    elif contains(index,'\"Handshake'):\n",
    "        conversionDict[index]=12\n",
    "    elif contains(index,\"[FIN, ACK]\"):\n",
    "        conversionDict[index]=13\n",
    "    elif contains(index,\"[RST, ACK]\"):\n",
    "        conversionDict[index]=14\n",
    "    elif contains(index,\"Client Hello\"):\n",
    "        conversionDict[index]=15\n",
    "    elif contains(index,\"[TCP Previous segment not captured]\"):\n",
    "        conversionDict[index]=16\n",
    "    elif contains(index,\"Initial\"):\n",
    "        conversionDict[index]=17\n",
    "    elif contains(index,\"Encrypted Alert\"):\n",
    "        conversionDict[index]=18\n",
    "    elif contains(index,\"Server Hello\"):\n",
    "        conversionDict[index]=19\n",
    "    elif contains(index,\"Change Cipher Spec\"):\n",
    "        conversionDict[index]=20\n",
    "    elif contains(index,\"Ignored Unknown Record\"):\n",
    "        conversionDict[index]=21\n",
    "    elif contains(index,\"Len=\"):\n",
    "        conversionDict[index]=22\n",
    "    else:\n",
    "        conversionDict[index]=23\n",
    "    \n",
    "    \n",
    "    \n",
    "\n",
    "    \n",
    "\n",
    "print(syn)\n",
    "print(pshack)"
   ]
  },
  {
   "cell_type": "code",
   "execution_count": null,
   "metadata": {},
   "outputs": [],
   "source": [
    "#infoCol.replace({syn:1, synack:2, ack:3, appdata:4, contdata:5, tcpdupack:6,tcpfastretransmit:7, pshack:8, tcpoutoforder:9, protectedpayload:10, tcpkeepalive: 11, handshake: 12, other: 13})\n",
    "'''infoCol.replace(syn,1)\n",
    "infoCol.replace(synack,2)\n",
    "infoCol.replace(ack,3)\n",
    "infoCol.replace(appdata,4)\n",
    "infoCol.replace(contdata,5)\n",
    "infoCol.replace(tcpdupack,6)\n",
    "infoCol.replace(tcpfastretransmit,7)\n",
    "infoCol.replace(pshack,8)\n",
    "infoCol.replace(tcpoutoforder,9)\n",
    "infoCol.replace(protectedpayload,10)\n",
    "print(infoCol)'''"
   ]
  },
  {
   "cell_type": "code",
   "execution_count": null,
   "metadata": {},
   "outputs": [],
   "source": [
    "infoCol.replace(to_replace=conversionDict,inplace=True)\n"
   ]
  },
  {
   "cell_type": "code",
   "execution_count": 138,
   "metadata": {},
   "outputs": [],
   "source": [
    "dFrame[\"Info\"]=infoCol\n",
    "dFrame.to_csv(\"shortNumProcessedData.csv\")"
   ]
  },
  {
   "cell_type": "code",
   "execution_count": null,
   "metadata": {},
   "outputs": [],
   "source": [
    "dFrame = dFrame.drop(\"\",axis=1)"
   ]
  }
 ],
 "metadata": {
  "kernelspec": {
   "display_name": "Python 3",
   "language": "python",
   "name": "python3"
  },
  "language_info": {
   "codemirror_mode": {
    "name": "ipython",
    "version": 3
   },
   "file_extension": ".py",
   "mimetype": "text/x-python",
   "name": "python",
   "nbconvert_exporter": "python",
   "pygments_lexer": "ipython3",
   "version": "3.12.3"
  }
 },
 "nbformat": 4,
 "nbformat_minor": 2
}
