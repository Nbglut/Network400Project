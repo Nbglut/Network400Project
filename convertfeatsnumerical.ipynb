{
 "cells": [
  {
   "cell_type": "code",
   "execution_count": 127,
   "metadata": {},
   "outputs": [],
   "source": [
    "import pandas as pd\n",
    "import auxFunctions\n"
   ]
  },
  {
   "cell_type": "code",
   "execution_count": 128,
   "metadata": {},
   "outputs": [],
   "source": [
    "#substring a string reference - https://www.geeksforgeeks.org/how-to-substring-a-string-in-python/\n",
    "#python functions reference - https://www.w3schools.com/python/python_functions.asp\n",
    "def contains (str1, str2):\n",
    "    for i in range(len(str1)-len(str2)+1):\n",
    "        if(str1[i:i+len(str2)]==str2):\n",
    "                return True\n",
    "    return False"
   ]
  },
  {
   "cell_type": "code",
   "execution_count": 129,
   "metadata": {},
   "outputs": [],
   "source": [
    "dFrame = pd.read_csv(\"C:/Users/Joey/Downloads/C400NetworkCode/combined_data_smaller.csv\")"
   ]
  },
  {
   "cell_type": "code",
   "execution_count": 130,
   "metadata": {},
   "outputs": [
    {
     "name": "stderr",
     "output_type": "stream",
     "text": [
      "C:\\Users\\Joey\\AppData\\Local\\Temp\\ipykernel_14992\\2729330046.py:3: FutureWarning: Downcasting behavior in `replace` is deprecated and will be removed in a future version. To retain the old behavior, explicitly call `result.infer_objects(copy=False)`. To opt-in to the future behavior, set `pd.set_option('future.no_silent_downcasting', True)`\n",
      "  protos.replace(to_replace={\"TCP\": 1, \"TLSv1.3\":2, \"UDP\":3,\"QUIC\":4,\"TLSv1.2\":5,\"SSLv2\":6},inplace=True)\n"
     ]
    }
   ],
   "source": [
    "#dataframe replace method: https://pandas.pydata.org/docs/reference/api/pandas.DataFrame.replace.html#pandas.DataFrame.replace\n",
    "protos=dFrame[\"Protocol\"]\n",
    "protos.replace(to_replace={\"TCP\": 1, \"TLSv1.3\":2, \"UDP\":3,\"QUIC\":4,\"TLSv1.2\":5,\"SSLv2\":6},inplace=True)\n",
    "dFrame[\"Protocol\"]=protos\n",
    "#infoCol = dFrame[\"Info\"]\n",
    "#i = 1\n",
    "#dFrame=dFrame.drop(\"Info\",axis=1)\n",
    "#infoDict = {}\n",
    "##if index in infoDict:\n",
    "      #  pass\n",
    "    #else:\n",
    "      #  infoDict[index] = i\n",
    "      ##print(infoDict)\n",
    "#infoCol.replace(to_replace=infoDict)\n",
    "#dFrame[\"Info\"]=infoCol\n",
    "dFrame=dFrame.drop(\"Source\",axis=1)\n",
    "dFrame=dFrame.drop(\"Destination\",axis=1)\n",
    "#string to int references: https://pythonprinciples.com/blog/python-convert-string-to-int/#:~:text=To%20convert%20a%20string%20to%20an%20integer%2C%20use%20the%20built,an%20integer%20as%20its%20output. , https://www.geeksforgeeks.org/convert-string-to-integer-in-python/\n",
    "#infoCol=dFrame[\"Info\"]\n",
    "#for index in infoCol:\n",
    "    #print(type(index))\n",
    "    #infoCol.loc[index]=int(index)\n",
    "\n",
    "#print(dFrame)"
   ]
  },
  {
   "cell_type": "code",
   "execution_count": 131,
   "metadata": {},
   "outputs": [
    {
     "name": "stdout",
     "output_type": "stream",
     "text": [
      "2.2.2\n"
     ]
    }
   ],
   "source": [
    "print(pd.__version__)"
   ]
  },
  {
   "cell_type": "code",
   "execution_count": 105,
   "metadata": {},
   "outputs": [
    {
     "data": {
      "text/plain": [
       "'def contains (str1, str2):\\n    for i in range(len(str1)-len(str2)+1):\\n        if(str1[i:i+len(str2)-1]==str2):\\n                return True\\n    return False'"
      ]
     },
     "execution_count": 105,
     "metadata": {},
     "output_type": "execute_result"
    }
   ],
   "source": [
    "#substring a string reference - https://www.geeksforgeeks.org/how-to-substring-a-string-in-python/\n",
    "'''def contains (str1, str2):\n",
    "    for i in range(len(str1)-len(str2)+1):\n",
    "        if(str1[i:i+len(str2)-1]==str2):\n",
    "                return True\n",
    "    return False'''\n",
    "        \n",
    "\n"
   ]
  },
  {
   "cell_type": "code",
   "execution_count": 132,
   "metadata": {},
   "outputs": [
    {
     "name": "stdout",
     "output_type": "stream",
     "text": [
      "True\n"
     ]
    },
    {
     "data": {
      "text/plain": [
       "'str1 = \"onetwothreefour\"\\nstr2 = \"three\"\\nfor i in range(len(str1)-len(str2)+1):\\n    print(str1[i:i+len(str2)])\\n    if(str1[i:i+len(str2)-1]==str2):\\n        print(\"true\")'"
      ]
     },
     "execution_count": 132,
     "metadata": {},
     "output_type": "execute_result"
    }
   ],
   "source": [
    "print(contains(\"onetwothreefour\", \"three\"))\n",
    "'''str1 = \"onetwothreefour\"\n",
    "str2 = \"three\"\n",
    "for i in range(len(str1)-len(str2)+1):\n",
    "    print(str1[i:i+len(str2)])\n",
    "    if(str1[i:i+len(str2)-1]==str2):\n",
    "        print(\"true\")'''\n"
   ]
  },
  {
   "cell_type": "code",
   "execution_count": 133,
   "metadata": {},
   "outputs": [
    {
     "name": "stdout",
     "output_type": "stream",
     "text": [
      "[]\n",
      "[]\n"
     ]
    }
   ],
   "source": [
    "infoCol = dFrame[\"Info\"]\n",
    "syn=[]\n",
    "synack=[]\n",
    "ack=[]\n",
    "appdata=[]\n",
    "contdata=[]\n",
    "tcpdupack=[]\n",
    "tcpfastretransmit=[]\n",
    "pshack = []\n",
    "tcpoutoforder = []\n",
    "protectedpayload = []\n",
    "tcpkeepalive = []\n",
    "handshake = []\n",
    "other = []\n",
    "conversionDict={}\n",
    "for index in infoCol:\n",
    "    if contains(index,\"[SYN]\"):\n",
    "        conversionDict[index]=1\n",
    "    elif contains(index,\"[SYN, ACK]\"):\n",
    "        conversionDict[index]=2\n",
    "    elif contains(index,\"[ACK]\"):\n",
    "        conversionDict[index]=3\n",
    "    elif contains(index,\"Application Data\"):\n",
    "        conversionDict[index]=4\n",
    "    elif contains(index,\"Continuation Data\"):\n",
    "        conversionDict[index]=5\n",
    "    elif contains(index,\"[TCP Dup ACK\"):\n",
    "        conversionDict[index]=6\n",
    "    elif contains(index,\"[TCP Fast Retransmission\"):\n",
    "        conversionDict[index]=7\n",
    "    elif contains(index,\"[PSH, ACK]\"):\n",
    "        conversionDict[index]=8\n",
    "    elif contains(index,\"[TCP Out-Of-Order\"):\n",
    "        conversionDict[index]=9\n",
    "    elif contains(index,\"Protected Payload\"):\n",
    "        conversionDict[index]=10\n",
    "    elif contains(index,\"[TCP Keep-Alive\"):\n",
    "        conversionDict[index]=11\n",
    "    elif contains(index,'\"Handshake'):\n",
    "        conversionDict[index]=12\n",
    "    elif contains(index,\"[FIN, ACK]\"):\n",
    "        conversionDict[index]=13\n",
    "    elif contains(index,\"[RST, ACK]\"):\n",
    "        conversionDict[index]=14\n",
    "    elif contains(index,\"Client Hello\"):\n",
    "        conversionDict[index]=15\n",
    "    elif contains(index,\"[TCP Previous segment not captured]\"):\n",
    "        conversionDict[index]=16\n",
    "    elif contains(index,\"Initial\"):\n",
    "        conversionDict[index]=17\n",
    "    elif contains(index,\"Encrypted Alert\"):\n",
    "        conversionDict[index]=18\n",
    "    elif contains(index,\"Server Hello\"):\n",
    "        conversionDict[index]=19\n",
    "    elif contains(index,\"Change Cipher Spec\"):\n",
    "        conversionDict[index]=20\n",
    "    elif contains(index,\"Ignored Unknown Record\"):\n",
    "        conversionDict[index]=21\n",
    "    elif contains(index,\"Len=\"):\n",
    "        conversionDict[index]=22\n",
    "    else:\n",
    "        conversionDict[index]=23\n",
    "    \n",
    "    \n",
    "    \n",
    "\n",
    "    \n",
    "\n",
    "print(syn)\n",
    "print(pshack)"
   ]
  },
  {
   "cell_type": "code",
   "execution_count": 120,
   "metadata": {},
   "outputs": [
    {
     "name": "stdout",
     "output_type": "stream",
     "text": [
      "0        61494  >  443 [SYN] Seq=0 Win=64240 Len=0 MSS=...\n",
      "1        443  >  61494 [SYN, ACK] Seq=0 Ack=1 Win=42340...\n",
      "2         61494  >  443 [ACK] Seq=1 Ack=1 Win=131328 Len=0\n",
      "3                        Client Hello (SNI=www.tumblr.com)\n",
      "4        443  >  61494 [ACK] Seq=1 Ack=1461 Win=42496 L...\n",
      "                               ...                        \n",
      "38527                                 64722  >  443 Len=36\n",
      "38528                                 64722  >  443 Len=36\n",
      "38529                               443  >  64722 Len=1232\n",
      "38530                               443  >  64722 Len=1232\n",
      "38531                               443  >  64722 Len=1232\n",
      "Name: Info, Length: 38532, dtype: object\n"
     ]
    }
   ],
   "source": [
    "#infoCol.replace({syn:1, synack:2, ack:3, appdata:4, contdata:5, tcpdupack:6,tcpfastretransmit:7, pshack:8, tcpoutoforder:9, protectedpayload:10, tcpkeepalive: 11, handshake: 12, other: 13})\n",
    "'''infoCol.replace(syn,1)\n",
    "infoCol.replace(synack,2)\n",
    "infoCol.replace(ack,3)\n",
    "infoCol.replace(appdata,4)\n",
    "infoCol.replace(contdata,5)\n",
    "infoCol.replace(tcpdupack,6)\n",
    "infoCol.replace(tcpfastretransmit,7)\n",
    "infoCol.replace(pshack,8)\n",
    "infoCol.replace(tcpoutoforder,9)\n",
    "infoCol.replace(protectedpayload,10)\n",
    "print(infoCol)'''"
   ]
  },
  {
   "cell_type": "code",
   "execution_count": 134,
   "metadata": {},
   "outputs": [
    {
     "name": "stderr",
     "output_type": "stream",
     "text": [
      "C:\\Users\\Joey\\AppData\\Local\\Temp\\ipykernel_14992\\443978347.py:1: FutureWarning: Downcasting behavior in `replace` is deprecated and will be removed in a future version. To retain the old behavior, explicitly call `result.infer_objects(copy=False)`. To opt-in to the future behavior, set `pd.set_option('future.no_silent_downcasting', True)`\n",
      "  infoCol.replace(to_replace=conversionDict,inplace=True)\n"
     ]
    }
   ],
   "source": [
    "infoCol.replace(to_replace=conversionDict,inplace=True)\n"
   ]
  },
  {
   "cell_type": "code",
   "execution_count": 138,
   "metadata": {},
   "outputs": [],
   "source": [
    "dFrame[\"Info\"]=infoCol\n",
    "dFrame.to_csv(\"shortNumProcessedData.csv\")"
   ]
  },
  {
   "cell_type": "code",
   "execution_count": 139,
   "metadata": {},
   "outputs": [
    {
     "ename": "KeyError",
     "evalue": "\"[''] not found in axis\"",
     "output_type": "error",
     "traceback": [
      "\u001b[1;31m---------------------------------------------------------------------------\u001b[0m",
      "\u001b[1;31mKeyError\u001b[0m                                  Traceback (most recent call last)",
      "Cell \u001b[1;32mIn[139], line 1\u001b[0m\n\u001b[1;32m----> 1\u001b[0m dFrame \u001b[38;5;241m=\u001b[39m \u001b[43mdFrame\u001b[49m\u001b[38;5;241;43m.\u001b[39;49m\u001b[43mdrop\u001b[49m\u001b[43m(\u001b[49m\u001b[38;5;124;43m\"\u001b[39;49m\u001b[38;5;124;43m\"\u001b[39;49m\u001b[43m,\u001b[49m\u001b[43maxis\u001b[49m\u001b[38;5;241;43m=\u001b[39;49m\u001b[38;5;241;43m1\u001b[39;49m\u001b[43m)\u001b[49m\n",
      "File \u001b[1;32mc:\\Users\\Joey\\Python\\Lib\\site-packages\\pandas\\core\\frame.py:5581\u001b[0m, in \u001b[0;36mDataFrame.drop\u001b[1;34m(self, labels, axis, index, columns, level, inplace, errors)\u001b[0m\n\u001b[0;32m   5433\u001b[0m \u001b[38;5;28;01mdef\u001b[39;00m \u001b[38;5;21mdrop\u001b[39m(\n\u001b[0;32m   5434\u001b[0m     \u001b[38;5;28mself\u001b[39m,\n\u001b[0;32m   5435\u001b[0m     labels: IndexLabel \u001b[38;5;241m|\u001b[39m \u001b[38;5;28;01mNone\u001b[39;00m \u001b[38;5;241m=\u001b[39m \u001b[38;5;28;01mNone\u001b[39;00m,\n\u001b[1;32m   (...)\u001b[0m\n\u001b[0;32m   5442\u001b[0m     errors: IgnoreRaise \u001b[38;5;241m=\u001b[39m \u001b[38;5;124m\"\u001b[39m\u001b[38;5;124mraise\u001b[39m\u001b[38;5;124m\"\u001b[39m,\n\u001b[0;32m   5443\u001b[0m ) \u001b[38;5;241m-\u001b[39m\u001b[38;5;241m>\u001b[39m DataFrame \u001b[38;5;241m|\u001b[39m \u001b[38;5;28;01mNone\u001b[39;00m:\n\u001b[0;32m   5444\u001b[0m \u001b[38;5;250m    \u001b[39m\u001b[38;5;124;03m\"\"\"\u001b[39;00m\n\u001b[0;32m   5445\u001b[0m \u001b[38;5;124;03m    Drop specified labels from rows or columns.\u001b[39;00m\n\u001b[0;32m   5446\u001b[0m \n\u001b[1;32m   (...)\u001b[0m\n\u001b[0;32m   5579\u001b[0m \u001b[38;5;124;03m            weight  1.0     0.8\u001b[39;00m\n\u001b[0;32m   5580\u001b[0m \u001b[38;5;124;03m    \"\"\"\u001b[39;00m\n\u001b[1;32m-> 5581\u001b[0m     \u001b[38;5;28;01mreturn\u001b[39;00m \u001b[38;5;28;43msuper\u001b[39;49m\u001b[43m(\u001b[49m\u001b[43m)\u001b[49m\u001b[38;5;241;43m.\u001b[39;49m\u001b[43mdrop\u001b[49m\u001b[43m(\u001b[49m\n\u001b[0;32m   5582\u001b[0m \u001b[43m        \u001b[49m\u001b[43mlabels\u001b[49m\u001b[38;5;241;43m=\u001b[39;49m\u001b[43mlabels\u001b[49m\u001b[43m,\u001b[49m\n\u001b[0;32m   5583\u001b[0m \u001b[43m        \u001b[49m\u001b[43maxis\u001b[49m\u001b[38;5;241;43m=\u001b[39;49m\u001b[43maxis\u001b[49m\u001b[43m,\u001b[49m\n\u001b[0;32m   5584\u001b[0m \u001b[43m        \u001b[49m\u001b[43mindex\u001b[49m\u001b[38;5;241;43m=\u001b[39;49m\u001b[43mindex\u001b[49m\u001b[43m,\u001b[49m\n\u001b[0;32m   5585\u001b[0m \u001b[43m        \u001b[49m\u001b[43mcolumns\u001b[49m\u001b[38;5;241;43m=\u001b[39;49m\u001b[43mcolumns\u001b[49m\u001b[43m,\u001b[49m\n\u001b[0;32m   5586\u001b[0m \u001b[43m        \u001b[49m\u001b[43mlevel\u001b[49m\u001b[38;5;241;43m=\u001b[39;49m\u001b[43mlevel\u001b[49m\u001b[43m,\u001b[49m\n\u001b[0;32m   5587\u001b[0m \u001b[43m        \u001b[49m\u001b[43minplace\u001b[49m\u001b[38;5;241;43m=\u001b[39;49m\u001b[43minplace\u001b[49m\u001b[43m,\u001b[49m\n\u001b[0;32m   5588\u001b[0m \u001b[43m        \u001b[49m\u001b[43merrors\u001b[49m\u001b[38;5;241;43m=\u001b[39;49m\u001b[43merrors\u001b[49m\u001b[43m,\u001b[49m\n\u001b[0;32m   5589\u001b[0m \u001b[43m    \u001b[49m\u001b[43m)\u001b[49m\n",
      "File \u001b[1;32mc:\\Users\\Joey\\Python\\Lib\\site-packages\\pandas\\core\\generic.py:4788\u001b[0m, in \u001b[0;36mNDFrame.drop\u001b[1;34m(self, labels, axis, index, columns, level, inplace, errors)\u001b[0m\n\u001b[0;32m   4786\u001b[0m \u001b[38;5;28;01mfor\u001b[39;00m axis, labels \u001b[38;5;129;01min\u001b[39;00m axes\u001b[38;5;241m.\u001b[39mitems():\n\u001b[0;32m   4787\u001b[0m     \u001b[38;5;28;01mif\u001b[39;00m labels \u001b[38;5;129;01mis\u001b[39;00m \u001b[38;5;129;01mnot\u001b[39;00m \u001b[38;5;28;01mNone\u001b[39;00m:\n\u001b[1;32m-> 4788\u001b[0m         obj \u001b[38;5;241m=\u001b[39m \u001b[43mobj\u001b[49m\u001b[38;5;241;43m.\u001b[39;49m\u001b[43m_drop_axis\u001b[49m\u001b[43m(\u001b[49m\u001b[43mlabels\u001b[49m\u001b[43m,\u001b[49m\u001b[43m \u001b[49m\u001b[43maxis\u001b[49m\u001b[43m,\u001b[49m\u001b[43m \u001b[49m\u001b[43mlevel\u001b[49m\u001b[38;5;241;43m=\u001b[39;49m\u001b[43mlevel\u001b[49m\u001b[43m,\u001b[49m\u001b[43m \u001b[49m\u001b[43merrors\u001b[49m\u001b[38;5;241;43m=\u001b[39;49m\u001b[43merrors\u001b[49m\u001b[43m)\u001b[49m\n\u001b[0;32m   4790\u001b[0m \u001b[38;5;28;01mif\u001b[39;00m inplace:\n\u001b[0;32m   4791\u001b[0m     \u001b[38;5;28mself\u001b[39m\u001b[38;5;241m.\u001b[39m_update_inplace(obj)\n",
      "File \u001b[1;32mc:\\Users\\Joey\\Python\\Lib\\site-packages\\pandas\\core\\generic.py:4830\u001b[0m, in \u001b[0;36mNDFrame._drop_axis\u001b[1;34m(self, labels, axis, level, errors, only_slice)\u001b[0m\n\u001b[0;32m   4828\u001b[0m         new_axis \u001b[38;5;241m=\u001b[39m axis\u001b[38;5;241m.\u001b[39mdrop(labels, level\u001b[38;5;241m=\u001b[39mlevel, errors\u001b[38;5;241m=\u001b[39merrors)\n\u001b[0;32m   4829\u001b[0m     \u001b[38;5;28;01melse\u001b[39;00m:\n\u001b[1;32m-> 4830\u001b[0m         new_axis \u001b[38;5;241m=\u001b[39m \u001b[43maxis\u001b[49m\u001b[38;5;241;43m.\u001b[39;49m\u001b[43mdrop\u001b[49m\u001b[43m(\u001b[49m\u001b[43mlabels\u001b[49m\u001b[43m,\u001b[49m\u001b[43m \u001b[49m\u001b[43merrors\u001b[49m\u001b[38;5;241;43m=\u001b[39;49m\u001b[43merrors\u001b[49m\u001b[43m)\u001b[49m\n\u001b[0;32m   4831\u001b[0m     indexer \u001b[38;5;241m=\u001b[39m axis\u001b[38;5;241m.\u001b[39mget_indexer(new_axis)\n\u001b[0;32m   4833\u001b[0m \u001b[38;5;66;03m# Case for non-unique axis\u001b[39;00m\n\u001b[0;32m   4834\u001b[0m \u001b[38;5;28;01melse\u001b[39;00m:\n",
      "File \u001b[1;32mc:\\Users\\Joey\\Python\\Lib\\site-packages\\pandas\\core\\indexes\\base.py:7070\u001b[0m, in \u001b[0;36mIndex.drop\u001b[1;34m(self, labels, errors)\u001b[0m\n\u001b[0;32m   7068\u001b[0m \u001b[38;5;28;01mif\u001b[39;00m mask\u001b[38;5;241m.\u001b[39many():\n\u001b[0;32m   7069\u001b[0m     \u001b[38;5;28;01mif\u001b[39;00m errors \u001b[38;5;241m!=\u001b[39m \u001b[38;5;124m\"\u001b[39m\u001b[38;5;124mignore\u001b[39m\u001b[38;5;124m\"\u001b[39m:\n\u001b[1;32m-> 7070\u001b[0m         \u001b[38;5;28;01mraise\u001b[39;00m \u001b[38;5;167;01mKeyError\u001b[39;00m(\u001b[38;5;124mf\u001b[39m\u001b[38;5;124m\"\u001b[39m\u001b[38;5;132;01m{\u001b[39;00mlabels[mask]\u001b[38;5;241m.\u001b[39mtolist()\u001b[38;5;132;01m}\u001b[39;00m\u001b[38;5;124m not found in axis\u001b[39m\u001b[38;5;124m\"\u001b[39m)\n\u001b[0;32m   7071\u001b[0m     indexer \u001b[38;5;241m=\u001b[39m indexer[\u001b[38;5;241m~\u001b[39mmask]\n\u001b[0;32m   7072\u001b[0m \u001b[38;5;28;01mreturn\u001b[39;00m \u001b[38;5;28mself\u001b[39m\u001b[38;5;241m.\u001b[39mdelete(indexer)\n",
      "\u001b[1;31mKeyError\u001b[0m: \"[''] not found in axis\""
     ]
    }
   ],
   "source": [
    "dFrame = dFrame.drop(\"\",axis=1)"
   ]
  }
 ],
 "metadata": {
  "kernelspec": {
   "display_name": "Python 3",
   "language": "python",
   "name": "python3"
  },
  "language_info": {
   "codemirror_mode": {
    "name": "ipython",
    "version": 3
   },
   "file_extension": ".py",
   "mimetype": "text/x-python",
   "name": "python",
   "nbconvert_exporter": "python",
   "pygments_lexer": "ipython3",
   "version": "3.12.3"
  }
 },
 "nbformat": 4,
 "nbformat_minor": 2
}
